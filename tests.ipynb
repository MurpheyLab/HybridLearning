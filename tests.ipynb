{
 "cells": [
  {
   "cell_type": "code",
   "execution_count": 1,
   "metadata": {},
   "outputs": [],
   "source": [
    "import numpy as np\n",
    "# from cart_pole_env import CartPoleSwingUpEnv\n",
    "# from cart_pole_model import CartPoleModel\n",
    "from custom_cartpoleswingup import CartPoleSwingUpEnv\n",
    "import matplotlib.pyplot as plt"
   ]
  },
  {
   "cell_type": "code",
   "execution_count": 2,
   "metadata": {},
   "outputs": [],
   "source": [
    "class IndirectController(object):\n",
    "\n",
    "    def __init__(self, model, task, T=20):\n",
    "        self.T = T\n",
    "        self.nu = model.action_space.shape[0]\n",
    "        self.nx = model.observation_space.shape[0]\n",
    "        self.u = [np.zeros(self.nu) for t in range(T-1)]\n",
    "        \n",
    "        self.model = model\n",
    "        self.task  = task\n",
    "        \n",
    "    def __call__(self, state):\n",
    "        \n",
    "        self.u[:-1] = self.u[1:]\n",
    "        self.u[-1]  = np.zeros(self.nu)\n",
    "        \n",
    "        self.model.set_state(state)\n",
    "        A = []\n",
    "        B = []\n",
    "        ldx = []\n",
    "        ldu = []\n",
    "        for t in range(self.T-1):\n",
    "            ldx_t = self.task.ldx(self.model.state)\n",
    "            ldu_t = self.task.ldu(self.u[t])\n",
    "            \n",
    "            self.model.step(self.u[t])\n",
    "            A_t = self.model.A\n",
    "            B_t = self.model.B\n",
    "\n",
    "            A.append(A_t)\n",
    "            B.append(B_t)\n",
    "            ldx.append(ldx_t)\n",
    "            ldu.append(ldu_t)\n",
    "            \n",
    "        rho = np.zeros(self.nx)\n",
    "        for t in reversed(range(self.T-1)):\n",
    "            rho = np.dot(A[t].T, rho) + ldx[t]\n",
    "            self.u[t] = -np.dot(B[t].T, rho)*0.01 + self.u[t]\n",
    "        \n",
    "        return self.u[0].copy()\n",
    "    "
   ]
  },
  {
   "cell_type": "code",
   "execution_count": 3,
   "metadata": {},
   "outputs": [],
   "source": [
    "env = CartPoleSwingUpEnv()\n",
    "task = env.task\n"
   ]
  },
  {
   "cell_type": "code",
   "execution_count": 8,
   "metadata": {},
   "outputs": [],
   "source": [
    "model = CartPoleSwingUpEnv()\n",
    "controller = IndirectController(model, task, T=50)\n",
    "\n"
   ]
  },
  {
   "cell_type": "code",
   "execution_count": 10,
   "metadata": {},
   "outputs": [],
   "source": [
    "state = env.reset()\n",
    "actions = []\n",
    "log = []\n",
    "for _ in range(500):\n",
    "    action = controller(state)\n",
    "    state = env.step(action)\n",
    "    env.render()\n",
    "    actions.append(action.copy())\n",
    "    log.append(state.copy())"
   ]
  },
  {
   "cell_type": "code",
   "execution_count": 6,
   "metadata": {},
   "outputs": [],
   "source": [
    "log = np.stack(log)"
   ]
  },
  {
   "cell_type": "code",
   "execution_count": 1,
   "metadata": {},
   "outputs": [
    {
     "ename": "NameError",
     "evalue": "name 'plt' is not defined",
     "output_type": "error",
     "traceback": [
      "\u001b[0;31m---------------------------------------------------------------------------\u001b[0m",
      "\u001b[0;31mNameError\u001b[0m                                 Traceback (most recent call last)",
      "\u001b[0;32m<ipython-input-1-d707ae2d47b2>\u001b[0m in \u001b[0;36m<module>\u001b[0;34m\u001b[0m\n\u001b[0;32m----> 1\u001b[0;31m \u001b[0mplt\u001b[0m\u001b[0;34m.\u001b[0m\u001b[0mplot\u001b[0m\u001b[0;34m(\u001b[0m\u001b[0mlog\u001b[0m\u001b[0;34m[\u001b[0m\u001b[0;34m:\u001b[0m\u001b[0;34m,\u001b[0m\u001b[0;36m1\u001b[0m\u001b[0;34m]\u001b[0m\u001b[0;34m)\u001b[0m\u001b[0;34m\u001b[0m\u001b[0;34m\u001b[0m\u001b[0m\n\u001b[0m\u001b[1;32m      2\u001b[0m \u001b[0;31m# plt.ylim(-1,1)\u001b[0m\u001b[0;34m\u001b[0m\u001b[0;34m\u001b[0m\u001b[0;34m\u001b[0m\u001b[0m\n",
      "\u001b[0;31mNameError\u001b[0m: name 'plt' is not defined"
     ]
    }
   ],
   "source": [
    "plt.plot(log[:,1])\n",
    "# plt.ylim(-1,1)"
   ]
  },
  {
   "cell_type": "code",
   "execution_count": 11,
   "metadata": {},
   "outputs": [
    {
     "data": {
      "text/plain": [
       "20.0"
      ]
     },
     "execution_count": 11,
     "metadata": {},
     "output_type": "execute_result"
    }
   ],
   "source": [
    "1.0/0.05"
   ]
  },
  {
   "cell_type": "code",
   "execution_count": null,
   "metadata": {},
   "outputs": [],
   "source": []
  }
 ],
 "metadata": {
  "kernelspec": {
   "display_name": "Python 3",
   "language": "python",
   "name": "python3"
  },
  "language_info": {
   "codemirror_mode": {
    "name": "ipython",
    "version": 3
   },
   "file_extension": ".py",
   "mimetype": "text/x-python",
   "name": "python",
   "nbconvert_exporter": "python",
   "pygments_lexer": "ipython3",
   "version": "3.6.8"
  }
 },
 "nbformat": 4,
 "nbformat_minor": 2
}
