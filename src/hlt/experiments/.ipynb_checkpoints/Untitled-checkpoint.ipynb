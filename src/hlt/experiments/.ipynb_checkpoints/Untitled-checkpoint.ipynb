{
 "cells": [
  {
   "cell_type": "code",
   "execution_count": 1,
   "metadata": {},
   "outputs": [],
   "source": [
    "import pickle\n",
    "import numpy as np\n",
    "import matplotlib.pyplot as plt\n",
    "from matplotlib.ticker import MaxNLocator\n",
    "import seaborn as sns\n",
    "sns.set(style=\"darkgrid\")\n",
    "plt.rcParams.update({'font.size': 8})\n"
   ]
  },
  {
   "cell_type": "code",
   "execution_count": 2,
   "metadata": {},
   "outputs": [],
   "source": [
    "hybrid_trials = []"
   ]
  },
  {
   "cell_type": "code",
   "execution_count": 3,
   "metadata": {},
   "outputs": [],
   "source": [
    "f = open('./data/hybrid_behavior_cloning/rewards.pkl', 'rb')\n",
    "hybrid_data = pickle.load(f, encoding=\"bytes\") \n",
    "\n",
    "hybrid_rewards = []\n",
    "for _ep, reward in hybrid_data[b'reward']:\n",
    "    if reward > -5.:\n",
    "        reward -= 100\n",
    "    hybrid_rewards.append(reward)\n",
    "hybrid_trials.append(hybrid_rewards)"
   ]
  },
  {
   "cell_type": "code",
   "execution_count": 4,
   "metadata": {},
   "outputs": [],
   "source": [
    "f = open('./data/hybrid_behavior_cloning/rewards2.pkl', 'rb')\n",
    "hybrid_data = pickle.load(f, encoding=\"bytes\") \n",
    "\n",
    "hybrid_rewards = []\n",
    "for _ep, reward, done, human_intervention in hybrid_data[b'reward']:\n",
    "    if human_intervention:\n",
    "        reward -= 100\n",
    "#     if reward > -25:\n",
    "#         reward -= 100.\n",
    "    hybrid_rewards.append(reward)\n",
    "hybrid_trials.append(hybrid_rewards)"
   ]
  },
  {
   "cell_type": "code",
   "execution_count": 5,
   "metadata": {},
   "outputs": [
    {
     "data": {
      "text/plain": [
       "<matplotlib.collections.PolyCollection at 0x7fe5991ed908>"
      ]
     },
     "execution_count": 5,
     "metadata": {},
     "output_type": "execute_result"
    },
    {
     "data": {
      "image/png": "[encoded data removed]",
      "text/plain": [
       "<Figure size 432x288 with 1 Axes>"
      ]
     },
     "metadata": {
      "needs_background": "light"
     },
     "output_type": "display_data"
    }
   ],
   "source": [
    "plt.plot([x for x in range(11)], np.mean(hybrid_trials, axis=0))\n",
    "plt.fill_between([x for x in range(11)],\n",
    "                np.min(hybrid_trials, axis=0),\n",
    "                np.max(hybrid_trials, axis=0),\n",
    "                alpha = 0.2\n",
    "                )"
   ]
  },
  {
   "cell_type": "code",
   "execution_count": 6,
   "metadata": {},
   "outputs": [],
   "source": [
    "bc_trials = []"
   ]
  },
  {
   "cell_type": "code",
   "execution_count": 7,
   "metadata": {},
   "outputs": [],
   "source": [
    "f = open('./data/behavior_cloning/rewards.pkl', 'rb')\n",
    "bd_data = pickle.load(f, encoding=\"bytes\") \n",
    "\n",
    "bc_rewards = []\n",
    "for episode, reward, done, intervention in bd_data[b'reward']:\n",
    "    if intervention:\n",
    "        reward -= 100.\n",
    "    if reward > -5:\n",
    "        reward -= 100.\n",
    "    bc_rewards.append(reward)\n",
    "bc_trials.append(bc_rewards)"
   ]
  },
  {
   "cell_type": "code",
   "execution_count": 8,
   "metadata": {},
   "outputs": [],
   "source": [
    "f = open('./data/behavior_cloning/rewards2.pkl', 'rb')\n",
    "bd_data = pickle.load(f, encoding=\"bytes\") "
   ]
  },
  {
   "cell_type": "code",
   "execution_count": 9,
   "metadata": {},
   "outputs": [],
   "source": [
    "bc_rewards = []\n",
    "for episode, reward, done, intervention in bd_data[b'reward']:\n",
    "    if intervention:\n",
    "        reward -= 100.\n",
    "    if reward > -5:\n",
    "        reward -= 100.\n",
    "    bc_rewards.append(reward)\n",
    "bc_trials.append(bc_rewards)"
   ]
  },
  {
   "cell_type": "code",
   "execution_count": 10,
   "metadata": {},
   "outputs": [],
   "source": [
    "f = open('./data/behavior_cloning/rewards3.pkl', 'rb')\n",
    "bd_data = pickle.load(f, encoding=\"bytes\") "
   ]
  },
  {
   "cell_type": "code",
   "execution_count": 11,
   "metadata": {},
   "outputs": [],
   "source": [
    "bc_rewards = []\n",
    "for episode, reward, done, intervention in bd_data[b'reward']:\n",
    "    if intervention:\n",
    "        reward -= 100.\n",
    "    if reward > -5:\n",
    "        reward -= 100.\n",
    "    bc_rewards.append(reward)\n",
    "bc_trials.append(bc_rewards)"
   ]
  },
  {
   "cell_type": "code",
   "execution_count": 12,
   "metadata": {},
   "outputs": [],
   "source": [
    "f = open('./data/behavior_cloning/rewards4.pkl', 'rb')\n",
    "bd_data = pickle.load(f, encoding=\"bytes\") "
   ]
  },
  {
   "cell_type": "code",
   "execution_count": 13,
   "metadata": {},
   "outputs": [],
   "source": [
    "bc_rewards = []\n",
    "for episode, reward, done, intervention in bd_data[b'reward']:\n",
    "    if intervention:\n",
    "        reward -= 100.\n",
    "    if reward > -5:\n",
    "        reward -= 100.\n",
    "    bc_rewards.append(reward)\n",
    "bc_rewards = bc_rewards + [bc_rewards[-1]]*2\n",
    "# bc_rewards.append(bc_rewards[-1])    \n",
    "bc_trials.append(bc_rewards)"
   ]
  },
  {
   "cell_type": "code",
   "execution_count": 14,
   "metadata": {},
   "outputs": [
    {
     "name": "stdout",
     "output_type": "stream",
     "text": [
      "11\n",
      "11\n",
      "11\n",
      "11\n"
     ]
    }
   ],
   "source": [
    "for t in bc_trials:\n",
    "    print(len(t))"
   ]
  },
  {
   "cell_type": "code",
   "execution_count": 15,
   "metadata": {},
   "outputs": [
    {
     "data": {
      "text/plain": [
       "<matplotlib.collections.PolyCollection at 0x7fe59718af60>"
      ]
     },
     "execution_count": 15,
     "metadata": {},
     "output_type": "execute_result"
    },
    {
     "data": {
      "image/png": "[encoded data removed]",
      "text/plain": [
       "<Figure size 432x288 with 1 Axes>"
      ]
     },
     "metadata": {
      "needs_background": "light"
     },
     "output_type": "display_data"
    }
   ],
   "source": [
    "plt.plot([x for x in range(11)], np.mean(bc_trials, axis=0))\n",
    "plt.fill_between([x for x in range(11)],\n",
    "                np.mean(bc_trials, axis=0)-np.std(bc_trials, axis=0),\n",
    "                np.mean(bc_trials, axis=0)+np.std(bc_trials, axis=0),\n",
    "                alpha = 0.2\n",
    "                )"
   ]
  },
  {
   "cell_type": "code",
   "execution_count": 16,
   "metadata": {},
   "outputs": [],
   "source": [
    "bc_mean = np.mean(bc_trials, axis=0)\n",
    "bc_std = np.std(bc_trials, axis=0)\n",
    "hlt_mean = np.mean(hybrid_trials, axis=0)\n",
    "hlt_std = np.std(hybrid_trials, axis=0)"
   ]
  },
  {
   "cell_type": "code",
   "execution_count": 17,
   "metadata": {},
   "outputs": [
    {
     "data": {
      "image/png": "[encoded data removed]",
      "text/plain": [
       "<Figure size 216x216 with 1 Axes>"
      ]
     },
     "metadata": {
      "needs_background": "light"
     },
     "output_type": "display_data"
    }
   ],
   "source": [
    "ax = plt.figure(figsize=(3,3)).gca()\n",
    "x = [i+1 for i in range(11)]\n",
    "\n",
    "plt.plot(x, hlt_mean, label='Ours (Stochastic) + BC')\n",
    "plt.fill_between(x,\n",
    "                hlt_mean - hlt_std,\n",
    "                hlt_mean + hlt_std,\n",
    "                alpha = 0.2\n",
    "                )\n",
    "\n",
    "plt.plot(x, bc_mean, label='Behavior Cloning (BC)')\n",
    "plt.fill_between(x,\n",
    "                bc_mean - bc_std,\n",
    "                bc_mean + bc_std,\n",
    "                alpha = 0.2\n",
    "                )\n",
    "\n",
    "plt.xlabel('num. demos.')\n",
    "plt.ylabel('reward')\n",
    "plt.legend()\n",
    "\n",
    "ax.xaxis.set_major_locator(MaxNLocator(integer=True))\n",
    "\n",
    "plt.savefig('block_stack_results.pdf')"
   ]
  },
  {
   "cell_type": "code",
   "execution_count": null,
   "metadata": {},
   "outputs": [],
   "source": []
  }
 ],
 "metadata": {
  "kernelspec": {
   "display_name": "Python 3",
   "language": "python",
   "name": "python3"
  },
  "language_info": {
   "codemirror_mode": {
    "name": "ipython",
    "version": 3
   },
   "file_extension": ".py",
   "mimetype": "text/x-python",
   "name": "python",
   "nbconvert_exporter": "python",
   "pygments_lexer": "ipython3",
   "version": "3.6.9"
  }
 },
 "nbformat": 4,
 "nbformat_minor": 4
}
