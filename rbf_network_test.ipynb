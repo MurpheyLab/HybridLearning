{
 "cells": [
  {
   "cell_type": "code",
   "execution_count": 170,
   "metadata": {
    "Collapsed": "false"
   },
   "outputs": [],
   "source": [
    "import torch, os, random, argparse\n",
    "import torch.nn as nn\n",
    "import torch.optim as optim\n",
    "from torch.autograd import Variable\n",
    "from torch.utils.data import DataLoader\n",
    "from torchvision import datasets, transforms\n",
    "\n",
    "from torch.optim import SGD, Adam\n",
    "\n",
    "\n",
    "torch.manual_seed(777)\n",
    "\n",
    "def initialize_weights(net):\n",
    "    for m in net.modules():\n",
    "        if isinstance(m, nn.Conv2d):\n",
    "            m.weight.data.normal_(0, 0.02)\n",
    "            m.bias.data.zero_()\n",
    "        elif isinstance(m, nn.ConvTranspose2d):\n",
    "            m.weight.data.normal_(0, 0.02)\n",
    "            m.bias.data.zero_()\n",
    "        elif isinstance(m, nn.Linear):\n",
    "            m.weight.data.normal_(0, 0.02)\n",
    "            m.bias.data.zero_()\n",
    "\n",
    "class RbfNet(nn.Module):\n",
    "    def __init__(self, centers, num_class=10):\n",
    "        super(RbfNet, self).__init__()\n",
    "        self.num_class = num_class\n",
    "        self.num_centers = centers.size(0)\n",
    "\n",
    "        self.centers = nn.Parameter(centers)\n",
    "        self.beta = nn.Parameter(torch.ones(1,self.num_centers)/10)\n",
    "        self.linear = nn.Linear(self.num_centers, self.num_class, bias=True)\n",
    "        initialize_weights(self)\n",
    "\n",
    "    def kernel_fun(self, batches):\n",
    "        n_input = batches.size(0) # number of inputs\n",
    "        A = self.centers.view(self.num_centers,-1).repeat(n_input,1,1)\n",
    "        B = batches.view(n_input,-1).unsqueeze(1).repeat(1,self.num_centers,1)\n",
    "        beta = torch.clamp(self.beta, -40, 40)\n",
    "        C = torch.exp(-beta.mul((A-B).pow(2).sum(2,keepdim=False) ) )\n",
    "#         C = torch.exp(-beta.mul((A-B).abs().sum(2,keepdim=False) ) )\n",
    "\n",
    "        return C\n",
    "\n",
    "    def forward(self, batches):\n",
    "        radial_val = self.kernel_fun(batches)\n",
    "        class_score = self.linear(radial_val)\n",
    "        return class_score\n"
   ]
  },
  {
   "cell_type": "code",
   "execution_count": 171,
   "metadata": {
    "Collapsed": "false"
   },
   "outputs": [
    {
     "data": {
      "text/plain": [
       "Parameter containing:\n",
       "tensor([[-1.6323],\n",
       "        [ 1.3164],\n",
       "        [ 2.0681]], requires_grad=True)"
      ]
     },
     "execution_count": 171,
     "metadata": {},
     "output_type": "execute_result"
    }
   ],
   "source": [
    "model.centers"
   ]
  },
  {
   "cell_type": "code",
   "execution_count": 172,
   "metadata": {
    "Collapsed": "false"
   },
   "outputs": [
    {
     "data": {
      "text/plain": [
       "Parameter containing:\n",
       "tensor([[0.9157, 1.6350, 1.3292]], requires_grad=True)"
      ]
     },
     "execution_count": 172,
     "metadata": {},
     "output_type": "execute_result"
    }
   ],
   "source": [
    "model.beta"
   ]
  },
  {
   "cell_type": "code",
   "execution_count": 204,
   "metadata": {
    "Collapsed": "false"
   },
   "outputs": [],
   "source": [
    "centers = torch.rand(20,1)\n",
    "model = RbfNet(centers, num_class=1)"
   ]
  },
  {
   "cell_type": "code",
   "execution_count": 205,
   "metadata": {
    "Collapsed": "false"
   },
   "outputs": [],
   "source": [
    "x_data = torch.linspace(-3,3).unsqueeze(1)\n",
    "y_data = torch.abs(torch.sin(x_data))"
   ]
  },
  {
   "cell_type": "code",
   "execution_count": 206,
   "metadata": {
    "Collapsed": "false"
   },
   "outputs": [],
   "source": [
    "optimizer = Adam(model.parameters(), lr=3e-2)"
   ]
  },
  {
   "cell_type": "code",
   "execution_count": 207,
   "metadata": {
    "Collapsed": "false"
   },
   "outputs": [],
   "source": [
    "import matplotlib.pyplot as plt"
   ]
  },
  {
   "cell_type": "code",
   "execution_count": 217,
   "metadata": {
    "Collapsed": "false"
   },
   "outputs": [
    {
     "data": {
      "text/plain": [
       "[<matplotlib.lines.Line2D at 0x7f01979405f8>]"
      ]
     },
     "execution_count": 217,
     "metadata": {},
     "output_type": "execute_result"
    },
    {
     "data": {
      "image/png": "[encoded data removed]",
      "text/plain": [
       "<Figure size 432x288 with 1 Axes>"
      ]
     },
     "metadata": {
      "needs_background": "light"
     },
     "output_type": "display_data"
    }
   ],
   "source": [
    "plt.plot(x_data.data.numpy(), y_data.data.numpy())\n",
    "plt.plot(x_data.data.numpy(), y_pred.data.numpy())\n"
   ]
  },
  {
   "cell_type": "code",
   "execution_count": 216,
   "metadata": {
    "Collapsed": "false"
   },
   "outputs": [
    {
     "name": "stdout",
     "output_type": "stream",
     "text": [
      "0.0010383074404671788\n",
      "0.001035272260196507\n",
      "0.0010322462767362595\n",
      "0.0010292320512235165\n",
      "0.0010262298164889216\n",
      "0.0010232352651655674\n",
      "0.0010202544508501887\n",
      "0.0010172822512686253\n",
      "0.001014320063404739\n",
      "0.0010113677708432078\n",
      "0.0010084251407533884\n",
      "0.0010054914746433496\n",
      "0.0010025670053437352\n",
      "0.000999651849269867\n",
      "0.000996745890006423\n",
      "0.0009938478469848633\n",
      "0.0009909601649269462\n",
      "0.000988078536465764\n",
      "0.0009852066868916154\n",
      "0.00098234333563596\n",
      "0.0009794865036383271\n",
      "0.0009766381699591875\n",
      "0.0009737967629916966\n",
      "0.0009709644946269691\n",
      "0.000968139385804534\n",
      "0.0009653195738792419\n",
      "0.0009625069797039032\n",
      "0.0009597036405466497\n",
      "0.0009569059475325048\n",
      "0.0009541150648146868\n",
      "0.0009513337863609195\n",
      "0.0009485594928264618\n",
      "0.0009457974229007959\n",
      "0.0009430487407371402\n",
      "0.0009403260773979127\n",
      "0.0009376470115967095\n",
      "0.0009350497857667506\n",
      "0.0009326175786554813\n",
      "0.0009305240819230676\n",
      "0.0009291462483815849\n",
      "0.0009293002658523619\n",
      "0.0009327959851361811\n",
      "0.0009436143445782363\n",
      "0.0009708681027404964\n",
      "0.0010346205672249198\n",
      "0.0011821920052170753\n",
      "0.0015135279390960932\n",
      "0.002264114562422037\n",
      "0.003822664264589548\n",
      "0.006895693484693766\n",
      "0.010955213569104671\n",
      "0.013643614016473293\n",
      "0.008951208554208279\n",
      "0.002156972186639905\n",
      "0.002320558065548539\n",
      "0.008440349251031876\n",
      "0.013093228451907635\n",
      "0.008876356296241283\n",
      "0.002111292677000165\n",
      "0.0034225191920995712\n",
      "0.006822342984378338\n",
      "0.00368880876339972\n",
      "0.0009619074407964945\n",
      "0.0036025913432240486\n",
      "0.005684627220034599\n",
      "0.0027827941812574863\n",
      "0.0011761870700865984\n",
      "0.003370695048943162\n",
      "0.0029264388140290976\n",
      "0.0009513545664958656\n",
      "0.0017960933037102222\n",
      "0.003087772987782955\n",
      "0.0019723421428352594\n",
      "0.0008821929222904146\n",
      "0.0018732765456661582\n",
      "0.0020438465289771557\n",
      "0.0009399416157975793\n",
      "0.0011931280605494976\n",
      "0.0019473135471343994\n",
      "0.0014091054908931255\n",
      "0.0008128867484629154\n",
      "0.0012626321986317635\n",
      "0.0014335241867229342\n",
      "0.0009079647716134787\n",
      "0.0009121509501710534\n",
      "0.0012891776859760284\n",
      "0.0011282641207799315\n",
      "0.0007960543734952807\n",
      "0.0009439029381610453\n",
      "0.0011098891263827682\n",
      "0.0008876316715031862\n",
      "0.000790794612839818\n",
      "0.0009681998053565621\n",
      "0.000970737193711102\n",
      "0.0007963880198076367\n",
      "0.000793659477494657\n",
      "0.0009057347197085619\n",
      "0.0008587227202951908\n",
      "0.0007566144922748208\n",
      "0.0008000609232112765\n"
     ]
    }
   ],
   "source": [
    "for _ in range(100):\n",
    "    \n",
    "    y_pred = model(x_data)\n",
    "    loss = torch.mean(torch.pow(y_data - y_pred, 2))\n",
    "    \n",
    "    optimizer.zero_grad()\n",
    "    loss.backward()\n",
    "    optimizer.step()\n",
    "    \n",
    "    print(loss.item())"
   ]
  },
  {
   "cell_type": "code",
   "execution_count": 210,
   "metadata": {
    "Collapsed": "false"
   },
   "outputs": [],
   "source": [
    "import torch # package for building functions with learnable parameters\n",
    "import torch.nn as nn # prebuilt functions specific to neural networks\n",
    "import torch.nn.functional as F\n",
    "from torch.distributions import Normal\n",
    "\n",
    "import numpy as np\n",
    "\n",
    "def gumbel_sample(x, axis=1):\n",
    "    z = np.random.gumbel(loc=0, scale=1, size=x.shape)\n",
    "    return (np.log(x) + z).argmax(axis=axis)\n",
    "\n",
    "class MDNModel(nn.Module):\n",
    "    def __init__(self, num_features, num_inputs, num_outputs, default_layers=[128], scale=0.):\n",
    "        super(MDNModel, self).__init__()\n",
    "\n",
    "        self.num_features   = num_features\n",
    "        self.num_inputs     = num_inputs\n",
    "        self.num_outputs    = num_outputs\n",
    "\n",
    "        self.mu         = nn.Linear(num_inputs, num_outputs * num_features, bias=False)\n",
    "\n",
    "        self.pi         = nn.Sequential(\n",
    "                            nn.Linear(num_inputs, default_layers[0]),\n",
    "                            nn.Softplus(),\n",
    "                            nn.Linear(default_layers[0], num_features)\n",
    "                        )\n",
    "\n",
    "    def forward(self, s, predict=False):\n",
    "\n",
    "        # TODO: get rid of this later\n",
    "        # _input = torch.cat([s, a], axis=1)\n",
    "        _input = s\n",
    "        pi = F.softmax(self.pi(_input), 1)\n",
    "\n",
    "#         if predict is True:\n",
    "#             k = gumbel_sample(pi.data.numpy())\n",
    "#             idx = (np.arange(k.shape[0]), k)\n",
    "#             mu  = self.mu(_input).view(-1, self.num_features, self.num_outputs)\n",
    "#             return mu[idx]\n",
    "\n",
    "        mu  = self.mu(_input)\n",
    "        mu  = mu.view(-1, self.num_features, self.num_outputs)\n",
    "        return pi, mu\n"
   ]
  },
  {
   "cell_type": "code",
   "execution_count": 2,
   "metadata": {
    "Collapsed": "false"
   },
   "outputs": [],
   "source": [
    "import torch\n",
    "import torch.nn as nn\n",
    "import numpy as np\n",
    "\n",
    "from torch.optim import SGD, Adam\n",
    "\n",
    "import roboschool\n",
    "import gym"
   ]
  },
  {
   "cell_type": "code",
   "execution_count": 3,
   "metadata": {
    "Collapsed": "false"
   },
   "outputs": [],
   "source": [
    "from vdp_env import VDP\n",
    "# from mdn_model import MDNModel"
   ]
  },
  {
   "cell_type": "code",
   "execution_count": 4,
   "metadata": {
    "Collapsed": "false"
   },
   "outputs": [],
   "source": [
    "# env = gym.make('LunarLanderContinuous-v2')#\n",
    "# env = gym.make('HalfCheetah-v2')#\n",
    "# env = gym.make('RoboschoolInvertedPendulumSwingup-v1')\n",
    "env = VDP()\n",
    "# env = gym.make('Pendulum-v0')#\n",
    "\n",
    "logger = {\n",
    "    'states'     : [],\n",
    "    'nextstates' : [],\n",
    "    'actions'    : []\n",
    "}"
   ]
  },
  {
   "cell_type": "code",
   "execution_count": 5,
   "metadata": {
    "Collapsed": "false"
   },
   "outputs": [],
   "source": [
    "trials  = 10\n",
    "horizon = 200\n",
    "\n",
    "for k in range(trials):\n",
    "    state = env.reset()\n",
    "    for t in range(horizon):\n",
    "        action = env.action_space.sample()\n",
    "        nextstate, reward, done, _ = env.step(action)\n",
    "        \n",
    "        logger['states'].append(state.copy())\n",
    "        logger['actions'].append(action.copy())\n",
    "        logger['nextstates'].append(nextstate.copy())\n",
    "\n",
    "        \n",
    "        state = nextstate.copy()\n",
    "        \n",
    "        if done:\n",
    "            state = env.reset()"
   ]
  },
  {
   "cell_type": "code",
   "execution_count": 6,
   "metadata": {
    "Collapsed": "false"
   },
   "outputs": [
    {
     "data": {
      "text/plain": [
       "3"
      ]
     },
     "execution_count": 6,
     "metadata": {},
     "output_type": "execute_result"
    }
   ],
   "source": [
    "env.observation_space.shape[0] + env.action_space.shape[0]"
   ]
  },
  {
   "cell_type": "code",
   "execution_count": 7,
   "metadata": {
    "Collapsed": "false"
   },
   "outputs": [],
   "source": [
    "mdn = MDNModel(4, env.observation_space.shape[0]+env.action_space.shape[0], env.observation_space.shape[0])\n",
    "optimizer = Adam(mdn.parameters(), lr=1e-3)"
   ]
  },
  {
   "cell_type": "code",
   "execution_count": 8,
   "metadata": {
    "Collapsed": "false"
   },
   "outputs": [],
   "source": [
    "states = torch.FloatTensor(\n",
    "    np.stack(logger['states'])\n",
    ")\n",
    "nextstates = torch.FloatTensor(\n",
    "    np.stack(logger['nextstates'])\n",
    ")\n",
    "actions = torch.FloatTensor(\n",
    "    np.stack(logger['actions'])\n",
    ")\n",
    "\n",
    "inputs = torch.cat([states, actions], axis=1)\n"
   ]
  },
  {
   "cell_type": "markdown",
   "metadata": {
    "Collapsed": "false"
   },
   "source": [
    "Deterministic Model\n",
    "==================="
   ]
  },
  {
   "cell_type": "code",
   "execution_count": 9,
   "metadata": {
    "Collapsed": "false"
   },
   "outputs": [
    {
     "name": "stdout",
     "output_type": "stream",
     "text": [
      "0 0.2956196963787079\n",
      "100 0.13201281428337097\n",
      "200 0.0859723836183548\n",
      "300 0.0527215451002121\n",
      "400 0.03563769534230232\n",
      "500 0.02623041719198227\n",
      "600 0.019265295937657356\n",
      "700 0.01372235082089901\n",
      "800 0.00934893824160099\n",
      "900 0.006056730169802904\n",
      "1000 0.0037954531144350767\n",
      "1100 0.002441080054268241\n",
      "1200 0.0017373195150867105\n",
      "1300 0.0014020793605595827\n",
      "1400 0.0012487497879192233\n",
      "1500 0.0011809744173660874\n",
      "1600 0.001152150216512382\n",
      "1700 0.0011403700336813927\n",
      "1800 0.0011356952600181103\n",
      "1900 0.0011338315671309829\n"
     ]
    }
   ],
   "source": [
    "for i in range(2000):\n",
    "    pi, mu = mdn(inputs)\n",
    "    pred = torch.einsum('ij,ijk->ik', [pi, mu])\n",
    "    results = (nextstates - pred).pow(2)\n",
    "    loss = torch.mean(results)\n",
    "#     results = (nextstates.unsqueeze(1).expand_as(mu) - mu).pow(2)\n",
    "#     results = torch.sum(results, -1)\n",
    "#     results = torch.mean(results * pi, 1)\n",
    "#     loss    = torch.mean(results)\n",
    "\n",
    "\n",
    "    optimizer.zero_grad()\n",
    "    loss.backward()\n",
    "    optimizer.step()\n",
    "\n",
    "    if i % 100 == 0:\n",
    "        print(i, loss.item())"
   ]
  },
  {
   "cell_type": "code",
   "execution_count": 10,
   "metadata": {
    "Collapsed": "false"
   },
   "outputs": [
    {
     "data": {
      "text/plain": [
       "tensor([[ 0.5552, -0.7533, -1.3230],\n",
       "        [ 0.4884, -0.7907, -2.1659],\n",
       "        [ 0.3276, -0.8509, -2.7806],\n",
       "        ...,\n",
       "        [-0.8091, -0.6174, -7.2455],\n",
       "        [-1.0021, -0.2965, -7.8129],\n",
       "        [-1.0456,  0.1056, -8.0074]], grad_fn=<ViewBackward>)"
      ]
     },
     "execution_count": 10,
     "metadata": {},
     "output_type": "execute_result"
    }
   ],
   "source": [
    "torch.einsum('ij,ijk->ik', [pi, mu])"
   ]
  },
  {
   "cell_type": "code",
   "execution_count": 11,
   "metadata": {
    "Collapsed": "false"
   },
   "outputs": [
    {
     "data": {
      "text/plain": [
       "torch.Size([2000, 4])"
      ]
     },
     "execution_count": 11,
     "metadata": {},
     "output_type": "execute_result"
    }
   ],
   "source": [
    "pi.shape"
   ]
  },
  {
   "cell_type": "code",
   "execution_count": 12,
   "metadata": {
    "Collapsed": "false"
   },
   "outputs": [
    {
     "data": {
      "text/plain": [
       "torch.Size([2000, 4, 3])"
      ]
     },
     "execution_count": 12,
     "metadata": {},
     "output_type": "execute_result"
    }
   ],
   "source": [
    "mu.shape"
   ]
  },
  {
   "cell_type": "code",
   "execution_count": 10,
   "metadata": {
    "Collapsed": "false"
   },
   "outputs": [
    {
     "data": {
      "text/plain": [
       "tensor([3, 3, 3,  ..., 3, 3, 3])"
      ]
     },
     "execution_count": 10,
     "metadata": {},
     "output_type": "execute_result"
    }
   ],
   "source": [
    "torch.argmax(pi, 1)"
   ]
  },
  {
   "cell_type": "code",
   "execution_count": 10,
   "metadata": {
    "Collapsed": "false"
   },
   "outputs": [],
   "source": [
    "max_cal = torch.argmax(pi, axis=1).data.numpy()"
   ]
  },
  {
   "cell_type": "code",
   "execution_count": 11,
   "metadata": {
    "Collapsed": "false"
   },
   "outputs": [],
   "source": [
    "import matplotlib.pyplot as plt"
   ]
  },
  {
   "cell_type": "code",
   "execution_count": 12,
   "metadata": {
    "Collapsed": "false"
   },
   "outputs": [
    {
     "data": {
      "text/plain": [
       "<matplotlib.collections.PathCollection at 0x7fcacbd139e8>"
      ]
     },
     "execution_count": 12,
     "metadata": {},
     "output_type": "execute_result"
    },
    {
     "data": {
      "image/png": "[encoded data removed]",
      "text/plain": [
       "<Figure size 432x288 with 1 Axes>"
      ]
     },
     "metadata": {
      "needs_background": "light"
     },
     "output_type": "display_data"
    }
   ],
   "source": [
    "# plt.plot(pi.data.numpy())\n",
    "plt.scatter([i for i in range(len(max_cal))], max_cal)"
   ]
  },
  {
   "cell_type": "markdown",
   "metadata": {
    "Collapsed": "false"
   },
   "source": [
    "Stochastic Model\n",
    "================"
   ]
  },
  {
   "cell_type": "code",
   "execution_count": 8,
   "metadata": {
    "Collapsed": "false"
   },
   "outputs": [
    {
     "name": "stdout",
     "output_type": "stream",
     "text": [
      "0 1.6615070104599\n",
      "100 0.784794807434082\n",
      "200 0.4779616594314575\n",
      "300 0.33713796734809875\n",
      "400 0.24787238240242004\n",
      "500 0.18302327394485474\n",
      "600 0.13693182170391083\n",
      "700 0.10436352342367172\n",
      "800 0.07918629050254822\n",
      "900 0.05965116620063782\n",
      "1000 0.0440392829477787\n",
      "1100 0.03128611668944359\n",
      "1200 0.023923367261886597\n",
      "1300 0.01977727562189102\n",
      "1400 0.017315944656729698\n",
      "1500 0.015712518244981766\n"
     ]
    },
    {
     "ename": "KeyboardInterrupt",
     "evalue": "",
     "output_type": "error",
     "traceback": [
      "\u001b[0;31m---------------------------------------------------------------------------\u001b[0m",
      "\u001b[0;31mKeyboardInterrupt\u001b[0m                         Traceback (most recent call last)",
      "\u001b[0;32m<ipython-input-8-402a526ae412>\u001b[0m in \u001b[0;36m<module>\u001b[0;34m\u001b[0m\n\u001b[1;32m     10\u001b[0m \u001b[0;34m\u001b[0m\u001b[0m\n\u001b[1;32m     11\u001b[0m     \u001b[0moptimizer\u001b[0m\u001b[0;34m.\u001b[0m\u001b[0mzero_grad\u001b[0m\u001b[0;34m(\u001b[0m\u001b[0;34m)\u001b[0m\u001b[0;34m\u001b[0m\u001b[0;34m\u001b[0m\u001b[0m\n\u001b[0;32m---> 12\u001b[0;31m     \u001b[0mloss\u001b[0m\u001b[0;34m.\u001b[0m\u001b[0mbackward\u001b[0m\u001b[0;34m(\u001b[0m\u001b[0;34m)\u001b[0m\u001b[0;34m\u001b[0m\u001b[0;34m\u001b[0m\u001b[0m\n\u001b[0m\u001b[1;32m     13\u001b[0m     \u001b[0moptimizer\u001b[0m\u001b[0;34m.\u001b[0m\u001b[0mstep\u001b[0m\u001b[0;34m(\u001b[0m\u001b[0;34m)\u001b[0m\u001b[0;34m\u001b[0m\u001b[0;34m\u001b[0m\u001b[0m\n\u001b[1;32m     14\u001b[0m \u001b[0;34m\u001b[0m\u001b[0m\n",
      "\u001b[0;32m~/.local/lib/python3.6/site-packages/torch/tensor.py\u001b[0m in \u001b[0;36mbackward\u001b[0;34m(self, gradient, retain_graph, create_graph)\u001b[0m\n\u001b[1;32m    116\u001b[0m                 \u001b[0mproducts\u001b[0m\u001b[0;34m.\u001b[0m \u001b[0mDefaults\u001b[0m \u001b[0mto\u001b[0m\u001b[0;31m \u001b[0m\u001b[0;31m`\u001b[0m\u001b[0;31m`\u001b[0m\u001b[0;32mFalse\u001b[0m\u001b[0;31m`\u001b[0m\u001b[0;31m`\u001b[0m\u001b[0;34m.\u001b[0m\u001b[0;34m\u001b[0m\u001b[0;34m\u001b[0m\u001b[0m\n\u001b[1;32m    117\u001b[0m         \"\"\"\n\u001b[0;32m--> 118\u001b[0;31m         \u001b[0mtorch\u001b[0m\u001b[0;34m.\u001b[0m\u001b[0mautograd\u001b[0m\u001b[0;34m.\u001b[0m\u001b[0mbackward\u001b[0m\u001b[0;34m(\u001b[0m\u001b[0mself\u001b[0m\u001b[0;34m,\u001b[0m \u001b[0mgradient\u001b[0m\u001b[0;34m,\u001b[0m \u001b[0mretain_graph\u001b[0m\u001b[0;34m,\u001b[0m \u001b[0mcreate_graph\u001b[0m\u001b[0;34m)\u001b[0m\u001b[0;34m\u001b[0m\u001b[0;34m\u001b[0m\u001b[0m\n\u001b[0m\u001b[1;32m    119\u001b[0m \u001b[0;34m\u001b[0m\u001b[0m\n\u001b[1;32m    120\u001b[0m     \u001b[0;32mdef\u001b[0m \u001b[0mregister_hook\u001b[0m\u001b[0;34m(\u001b[0m\u001b[0mself\u001b[0m\u001b[0;34m,\u001b[0m \u001b[0mhook\u001b[0m\u001b[0;34m)\u001b[0m\u001b[0;34m:\u001b[0m\u001b[0;34m\u001b[0m\u001b[0;34m\u001b[0m\u001b[0m\n",
      "\u001b[0;32m~/.local/lib/python3.6/site-packages/torch/autograd/__init__.py\u001b[0m in \u001b[0;36mbackward\u001b[0;34m(tensors, grad_tensors, retain_graph, create_graph, grad_variables)\u001b[0m\n\u001b[1;32m     91\u001b[0m     Variable._execution_engine.run_backward(\n\u001b[1;32m     92\u001b[0m         \u001b[0mtensors\u001b[0m\u001b[0;34m,\u001b[0m \u001b[0mgrad_tensors\u001b[0m\u001b[0;34m,\u001b[0m \u001b[0mretain_graph\u001b[0m\u001b[0;34m,\u001b[0m \u001b[0mcreate_graph\u001b[0m\u001b[0;34m,\u001b[0m\u001b[0;34m\u001b[0m\u001b[0;34m\u001b[0m\u001b[0m\n\u001b[0;32m---> 93\u001b[0;31m         allow_unreachable=True)  # allow_unreachable flag\n\u001b[0m\u001b[1;32m     94\u001b[0m \u001b[0;34m\u001b[0m\u001b[0m\n\u001b[1;32m     95\u001b[0m \u001b[0;34m\u001b[0m\u001b[0m\n",
      "\u001b[0;31mKeyboardInterrupt\u001b[0m: "
     ]
    }
   ],
   "source": [
    "for i in range(4000):\n",
    "    pi, mu, std = mdn(inputs)\n",
    "    results = (nextstates.unsqueeze(1).expand_as(mu) - mu).pow(2)\n",
    "    results = results * torch.reciprocal(std)\n",
    "    results = torch.exp(-0.5 * results) * torch.reciprocal(std)\n",
    "    results = torch.prod(results, axis=2)\n",
    "    \n",
    "    results = -torch.log(torch.sum(results*pi,1) + 1e-5)\n",
    "    loss = results.mean()\n",
    "    \n",
    "    optimizer.zero_grad()\n",
    "    loss.backward()\n",
    "    optimizer.step()\n",
    "    \n",
    "    if i % 100 == 0:\n",
    "        print(i, loss.item())\n",
    "\n"
   ]
  },
  {
   "cell_type": "code",
   "execution_count": 9,
   "metadata": {
    "Collapsed": "false"
   },
   "outputs": [],
   "source": [
    "import matplotlib.pyplot as plt\n"
   ]
  },
  {
   "cell_type": "code",
   "execution_count": 10,
   "metadata": {
    "Collapsed": "false"
   },
   "outputs": [],
   "source": [
    "true_path     = []\n",
    "true_ns       = []\n",
    "actions_taken = []\n",
    "state = env.reset()\n",
    "for t in range(1000):\n",
    "    true_path.append(state)\n",
    "    action = env.action_space.sample()\n",
    "    actions_taken.append(action.copy())\n",
    "    nextstate, rew, done, _ = env.step(action)\n",
    "    if done:\n",
    "        state = env.reset()\n",
    "    true_ns.append(nextstate.copy())\n",
    "    state = nextstate.copy()\n",
    "#     env.render()\n"
   ]
  },
  {
   "cell_type": "code",
   "execution_count": 11,
   "metadata": {
    "Collapsed": "false"
   },
   "outputs": [],
   "source": [
    "true_path = np.stack(true_path)\n",
    "actions_taken = np.stack(actions_taken)\n",
    "inputs = np.concatenate([true_path, actions_taken], axis=1)\n",
    "true_ns = np.stack(true_ns)"
   ]
  },
  {
   "cell_type": "code",
   "execution_count": 12,
   "metadata": {
    "Collapsed": "false"
   },
   "outputs": [],
   "source": [
    "from mdn_model import gumbel_sample"
   ]
  },
  {
   "cell_type": "code",
   "execution_count": 13,
   "metadata": {
    "Collapsed": "false"
   },
   "outputs": [],
   "source": [
    "pi = mdn.pi(torch.FloatTensor(inputs))"
   ]
  },
  {
   "cell_type": "code",
   "execution_count": 14,
   "metadata": {
    "Collapsed": "false"
   },
   "outputs": [
    {
     "data": {
      "text/plain": [
       "array([0, 0, 0, 0, 0, 0, 0, 0, 0, 0, 0, 0, 0, 0, 0, 0, 0, 0, 0, 0, 0, 0,\n",
       "       0, 0, 0, 0, 0, 0, 0, 0, 0, 0, 0, 0, 0, 0, 0, 0, 0, 0, 0, 0, 0, 0,\n",
       "       0, 0, 0, 0, 0, 0, 0, 0, 0, 0, 0, 0, 0, 0, 0, 0, 0, 0, 0, 0, 0, 0,\n",
       "       0, 0, 0, 0, 0, 1, 1, 1, 1, 1, 1, 1, 1, 1, 1, 0, 0, 0, 0, 0, 0, 0,\n",
       "       0, 0, 0, 0, 0, 0, 0, 0, 0, 0, 0, 0, 0, 0, 0, 0, 0, 0, 0, 0, 0, 1,\n",
       "       1, 1, 1, 1, 1, 1, 1, 1, 1, 1, 0, 0, 0, 0, 0, 0, 0, 0, 0, 0, 0, 0,\n",
       "       0, 0, 0, 0, 0, 0, 0, 0, 0, 0, 0, 0, 0, 0, 0, 1, 1, 1, 1, 1, 1, 1,\n",
       "       1, 1, 1, 1, 1, 1, 1, 1, 0, 0, 0, 0, 0, 0, 0, 0, 0, 0, 0, 0, 0, 0,\n",
       "       0, 0, 0, 0, 0, 0, 0, 1, 1, 1, 1, 1, 1, 1, 1, 1, 1, 1, 1, 1, 0, 0,\n",
       "       0, 0, 0, 0, 0, 0, 0, 0, 0, 0, 0, 0, 0, 0, 0, 0, 0, 0, 0, 0, 0, 0,\n",
       "       0, 0, 0, 0, 1, 1, 1, 1, 1, 1, 1, 1, 0, 0, 0, 0, 0, 0, 0, 0, 0, 0,\n",
       "       0, 0, 0, 0, 0, 0, 0, 0, 0, 0, 0, 0, 0, 0, 0, 0, 0, 0, 0, 1, 1, 1,\n",
       "       1, 1, 1, 1, 1, 1, 1, 0, 0, 0, 0, 0, 0, 0, 0, 0, 0, 0, 0, 0, 0, 0,\n",
       "       0, 0, 0, 0, 0, 0, 0, 0, 0, 0, 0, 0, 0, 0, 1, 1, 1, 1, 1, 1, 1, 1,\n",
       "       1, 1, 0, 1, 0, 0, 0, 0, 0, 0, 0, 0, 0, 0, 0, 0, 0, 0, 0, 0, 0, 0,\n",
       "       0, 0, 0, 0, 0, 0, 0, 0, 0, 0, 0, 0, 1, 1, 1, 1, 0, 1, 1, 1, 0, 1,\n",
       "       0, 0, 0, 0, 0, 0, 0, 0, 0, 0, 0, 0, 0, 0, 0, 0, 0, 0, 0, 0, 0, 0,\n",
       "       0, 0, 0, 0, 1, 1, 1, 1, 1, 1, 1, 1, 1, 1, 1, 0, 0, 0, 0, 0, 0, 0,\n",
       "       0, 0, 0, 0, 0, 0, 0, 0, 0, 0, 0, 0, 0, 0, 0, 0, 0, 0, 0, 0, 0, 1,\n",
       "       1, 1, 1, 1, 1, 1, 1, 1, 1, 1, 1, 0, 0, 0, 0, 0, 0, 0, 0, 0, 0, 0,\n",
       "       0, 0, 0, 0, 0, 0, 0, 0, 0, 0, 0, 0, 0, 0, 0, 0, 0, 1, 1, 1, 1, 1,\n",
       "       1, 1, 1, 1, 1, 1, 0, 0, 0, 0, 0, 0, 0, 0, 0, 0, 0, 0, 0, 0, 0, 0,\n",
       "       0, 0, 0, 0, 0, 0, 0, 0, 0, 0, 0, 0, 0, 1, 1, 1, 1, 1, 1, 1, 1, 0,\n",
       "       0, 0, 0, 0, 0, 0, 0, 0, 0, 0, 0, 0, 0, 0, 0, 0, 0, 0, 0, 0, 0, 0,\n",
       "       0, 0, 0, 0, 0, 0, 0, 0, 0, 1, 1, 1, 1, 1, 1, 1, 1, 1, 1, 1, 1, 0,\n",
       "       0, 0, 0, 0, 0, 0, 0, 0, 0, 0, 0, 0, 0, 0, 0, 0, 0, 0, 0, 0, 0, 0,\n",
       "       0, 0, 0, 0, 1, 1, 1, 0, 0, 0, 1, 1, 1, 1, 1, 1, 1, 1, 1, 0, 0, 0,\n",
       "       0, 0, 0, 0, 0, 0, 0, 0, 0, 0, 0, 0, 0, 0, 0, 0, 0, 0, 0, 0, 0, 1,\n",
       "       1, 1, 1, 1, 1, 1, 1, 1, 1, 1, 1, 1, 0, 0, 0, 0, 0, 0, 0, 0, 0, 0,\n",
       "       0, 0, 0, 0, 0, 0, 0, 0, 0, 0, 0, 0, 0, 0, 0, 0, 0, 0, 0, 0, 0, 0,\n",
       "       1, 1, 1, 1, 1, 1, 1, 1, 1, 1, 1, 1, 0, 0, 0, 0, 0, 0, 0, 0, 0, 0,\n",
       "       0, 0, 0, 0, 0, 0, 0, 0, 0, 0, 0, 0, 0, 0, 0, 0, 0, 1, 1, 1, 1, 1,\n",
       "       1, 1, 1, 1, 1, 1, 1, 1, 1, 0, 0, 0, 0, 0, 0, 0, 0, 0, 0, 0, 0, 0,\n",
       "       0, 0, 0, 0, 0, 0, 0, 0, 0, 0, 1, 1, 1, 1, 1, 1, 1, 1, 1, 1, 1, 1,\n",
       "       1, 1, 0, 0, 0, 0, 0, 0, 0, 0, 0, 0, 0, 0, 0, 0, 0, 0, 0, 0, 0, 0,\n",
       "       0, 0, 0, 0, 0, 0, 0, 0, 0, 1, 1, 1, 1, 1, 1, 1, 1, 1, 1, 1, 1, 1,\n",
       "       0, 0, 0, 0, 0, 0, 0, 0, 0, 0, 0, 0, 0, 0, 0, 0, 0, 0, 0, 0, 0, 0,\n",
       "       0, 0, 0, 0, 0, 0, 0, 0, 0, 0, 0, 0, 0, 0, 0, 0, 0, 0, 0, 0, 0, 0,\n",
       "       0, 0, 0, 0, 0, 0, 0, 0, 0, 0, 0, 0, 0, 0, 0, 0, 0, 0, 0, 0, 0, 0,\n",
       "       0, 0, 0, 0, 0, 0, 0, 0, 1, 1, 1, 1, 0, 1, 1, 1, 0, 0, 0, 0, 0, 0,\n",
       "       0, 0, 0, 0, 0, 0, 0, 0, 0, 0, 0, 0, 0, 0, 0, 0, 0, 0, 0, 0, 0, 1,\n",
       "       1, 1, 1, 1, 1, 1, 1, 1, 1, 1, 1, 0, 0, 0, 0, 0, 0, 0, 0, 0, 0, 0,\n",
       "       0, 0, 0, 0, 0, 0, 0, 0, 0, 0, 0, 0, 0, 0, 0, 1, 1, 1, 1, 1, 1, 1,\n",
       "       1, 1, 1, 1, 1, 1, 0, 0, 0, 0, 0, 0, 0, 0, 0, 0, 0, 0, 0, 0, 0, 0,\n",
       "       0, 0, 0, 0, 0, 0, 0, 0, 0, 0, 0, 1, 1, 1, 0, 0, 0, 0, 0, 0, 0, 0,\n",
       "       0, 0, 0, 0, 0, 0, 0, 0, 0, 0])"
      ]
     },
     "execution_count": 14,
     "metadata": {},
     "output_type": "execute_result"
    }
   ],
   "source": [
    "gumbel_sample(nn.functional.softmax(pi, -1).data.numpy()+1e-5)"
   ]
  },
  {
   "cell_type": "code",
   "execution_count": 15,
   "metadata": {
    "Collapsed": "false"
   },
   "outputs": [
    {
     "name": "stderr",
     "output_type": "stream",
     "text": [
      "/home/anon/sand_box/research-projects/SMPO/mdn_model.py:10: RuntimeWarning: divide by zero encountered in log\n",
      "  return (np.log(x) + z).argmax(axis=axis)\n"
     ]
    }
   ],
   "source": [
    "pred = mdn(torch.FloatTensor(inputs), predict=True)\n",
    "pred = pred.data.numpy()"
   ]
  },
  {
   "cell_type": "code",
   "execution_count": 17,
   "metadata": {
    "Collapsed": "false"
   },
   "outputs": [
    {
     "data": {
      "image/png": "[encoded data removed]",
      "text/plain": [
       "<Figure size 432x288 with 1 Axes>"
      ]
     },
     "metadata": {
      "needs_background": "light"
     },
     "output_type": "display_data"
    }
   ],
   "source": [
    "plt.plot(true_ns,'r')\n",
    "plt.plot(pred, 'k')\n",
    "plt.show()"
   ]
  },
  {
   "cell_type": "code",
   "execution_count": 32,
   "metadata": {
    "Collapsed": "false"
   },
   "outputs": [
    {
     "data": {
      "text/plain": [
       "array([-0.9147066 , -0.35538417, -1.4366535 ], dtype=float32)"
      ]
     },
     "execution_count": 32,
     "metadata": {},
     "output_type": "execute_result"
    }
   ],
   "source": [
    "pred[21,:]"
   ]
  },
  {
   "cell_type": "code",
   "execution_count": 33,
   "metadata": {
    "Collapsed": "false"
   },
   "outputs": [
    {
     "data": {
      "text/plain": [
       "array([-0.89243543, -0.4139206 , -1.0535191 ], dtype=float32)"
      ]
     },
     "execution_count": 33,
     "metadata": {},
     "output_type": "execute_result"
    }
   ],
   "source": [
    "pred[20,:]"
   ]
  },
  {
   "cell_type": "code",
   "execution_count": 34,
   "metadata": {
    "Collapsed": "false"
   },
   "outputs": [
    {
     "data": {
      "text/plain": [
       "array([-0.9407345 , -0.28462148, -1.4138105 ], dtype=float32)"
      ]
     },
     "execution_count": 34,
     "metadata": {},
     "output_type": "execute_result"
    }
   ],
   "source": [
    "pred[22,:]"
   ]
  },
  {
   "cell_type": "code",
   "execution_count": 20,
   "metadata": {
    "Collapsed": "false"
   },
   "outputs": [
    {
     "data": {
      "text/plain": [
       "Parameter containing:\n",
       "tensor([[-0.2645, -0.1515, -0.1107],\n",
       "        [ 0.2676,  0.3399,  0.3577],\n",
       "        [-0.0215, -0.1986,  0.3614],\n",
       "        [-0.3179,  0.5761,  0.5308],\n",
       "        [ 0.3489, -0.3856,  0.3801],\n",
       "        [-0.4198, -0.3333,  0.0794],\n",
       "        [-0.0283,  0.3000, -0.2246],\n",
       "        [ 0.1291, -0.3524,  0.2487],\n",
       "        [-0.1281,  0.1273, -0.1887],\n",
       "        [-0.4122,  0.1358, -0.5213]], requires_grad=True)"
      ]
     },
     "execution_count": 20,
     "metadata": {},
     "output_type": "execute_result"
    }
   ],
   "source": [
    "# for i in range(6):\n",
    "#     print(mdn.mu.weight[i*2:i*2+2, :])\n",
    "\n",
    "mdn.mu.weight"
   ]
  },
  {
   "cell_type": "code",
   "execution_count": 17,
   "metadata": {
    "Collapsed": "false"
   },
   "outputs": [],
   "source": [
    "\n",
    "oneDivSqrtTwoPI = 1.0 / np.sqrt(2.0*np.pi) # normalization factor for Gaussians\n",
    "def gaussian_distribution(y, mu, sigma):\n",
    "    # make |mu|=K copies of y, subtract mu, divide by sigma\n",
    "    result = (y.expand_as(mu) - mu) * torch.reciprocal(sigma)\n",
    "#     result = torch.sum(-0.5 * (result * result), 2)\n",
    "    result = -0.5 * (result * result)\n",
    "    result = (torch.exp(result) * torch.reciprocal(sigma)) * oneDivSqrtTwoPI\n",
    "    return torch.prod(result, 2)\n",
    "    \n",
    "    \n",
    "def mdn_loss_fn(pi, sigma, mu, y, eps=1e-3):\n",
    "    result = gaussian_distribution(y, mu, sigma) * pi\n",
    "    result = torch.sum(result, dim=1)\n",
    "    result = -torch.log(result + eps)\n",
    "    return torch.mean(result)\n"
   ]
  },
  {
   "cell_type": "code",
   "execution_count": 7,
   "metadata": {
    "Collapsed": "false"
   },
   "outputs": [],
   "source": [
    "import torch # package for building functions with learnable parameters\n",
    "import torch.nn as nn # prebuilt functions specific to neural networks\n",
    "\n",
    "class MDN(nn.Module):\n",
    "    def __init__(self, num_features, num_inputs, num_outputs):\n",
    "        super(MDN, self).__init__()\n",
    "        self.num_features = num_features\n",
    "        self.num_inputs = num_inputs\n",
    "        self.num_outputs = num_outputs        \n",
    "        n_hidden = 20\n",
    "        self.z = nn.Sequential(\n",
    "            nn.Linear(num_inputs, n_hidden),\n",
    "            nn.ELU(),\n",
    "            nn.Linear(n_hidden, n_hidden),\n",
    "            nn.ELU()\n",
    "        )\n",
    "        \n",
    "        self.pi = nn.Sequential(\n",
    "            nn.Linear(n_hidden, n_hidden),\n",
    "            nn.ELU(),\n",
    "            nn.Linear(n_hidden, n_hidden),\n",
    "            nn.ELU(),\n",
    "            nn.Linear(n_hidden, num_features)        \n",
    "        )\n",
    "        self.log_stddev = nn.Sequential(\n",
    "            nn.Linear(n_hidden, n_hidden),\n",
    "            nn.ELU(),\n",
    "            nn.Linear(n_hidden, n_hidden),\n",
    "            nn.ELU(),\n",
    "            nn.Linear(n_hidden, num_features*num_outputs)\n",
    "        )\n",
    "        self.mu = nn.Sequential(\n",
    "            nn.Linear(n_hidden, n_hidden),\n",
    "            nn.ELU(),\n",
    "            nn.Linear(n_hidden, n_hidden),\n",
    "            nn.ELU(),\n",
    "            nn.Linear(n_hidden, num_features*num_outputs)\n",
    "        )\n",
    "\n",
    "    def forward(self, x):\n",
    "        z = self.z(x)\n",
    "        pi = nn.functional.softmax(self.pi(z), -1)\n",
    "        mu = self.mu(z)\n",
    "        mu = mu.view(-1,self.num_features,self.num_outputs)\n",
    "        sigma = torch.exp(self.log_stddev(z))\n",
    "        sigma = sigma.view(-1, self.num_features, self.num_outputs)\n",
    "        return pi, sigma, mu\n"
   ]
  },
  {
   "cell_type": "code",
   "execution_count": 8,
   "metadata": {
    "Collapsed": "false"
   },
   "outputs": [],
   "source": [
    "mdn = MDN(2, 3, 2)\n",
    "optimizer = Adam(mdn.parameters())"
   ]
  },
  {
   "cell_type": "code",
   "execution_count": 11,
   "metadata": {
    "Collapsed": "false"
   },
   "outputs": [
    {
     "name": "stdout",
     "output_type": "stream",
     "text": [
      "1.0420321226119995\n",
      "-4.75194787979126\n",
      "-6.207372665405273\n",
      "1.2795978784561157\n",
      "-4.966353416442871\n"
     ]
    },
    {
     "ename": "KeyboardInterrupt",
     "evalue": "",
     "output_type": "error",
     "traceback": [
      "\u001b[0;31m---------------------------------------------------------------------------\u001b[0m",
      "\u001b[0;31mKeyboardInterrupt\u001b[0m                         Traceback (most recent call last)",
      "\u001b[0;32m<ipython-input-11-bcadab930dad>\u001b[0m in \u001b[0;36m<module>\u001b[0;34m\u001b[0m\n\u001b[1;32m      2\u001b[0m     \u001b[0mpi\u001b[0m\u001b[0;34m,\u001b[0m \u001b[0msigma\u001b[0m\u001b[0;34m,\u001b[0m \u001b[0mmu\u001b[0m \u001b[0;34m=\u001b[0m \u001b[0mmdn\u001b[0m\u001b[0;34m(\u001b[0m\u001b[0mtorch\u001b[0m\u001b[0;34m.\u001b[0m\u001b[0mcat\u001b[0m\u001b[0;34m(\u001b[0m\u001b[0;34m[\u001b[0m\u001b[0mstates\u001b[0m\u001b[0;34m,\u001b[0m \u001b[0mactions\u001b[0m\u001b[0;34m]\u001b[0m\u001b[0;34m,\u001b[0m \u001b[0maxis\u001b[0m\u001b[0;34m=\u001b[0m\u001b[0;36m1\u001b[0m\u001b[0;34m)\u001b[0m\u001b[0;34m)\u001b[0m\u001b[0;34m\u001b[0m\u001b[0;34m\u001b[0m\u001b[0m\n\u001b[1;32m      3\u001b[0m \u001b[0;34m\u001b[0m\u001b[0m\n\u001b[0;32m----> 4\u001b[0;31m     \u001b[0mloss\u001b[0m \u001b[0;34m=\u001b[0m \u001b[0mmdn_loss_fn\u001b[0m\u001b[0;34m(\u001b[0m\u001b[0mpi\u001b[0m\u001b[0;34m,\u001b[0m \u001b[0msigma\u001b[0m\u001b[0;34m,\u001b[0m \u001b[0mmu\u001b[0m\u001b[0;34m,\u001b[0m \u001b[0mnextstates\u001b[0m\u001b[0;34m.\u001b[0m\u001b[0munsqueeze\u001b[0m\u001b[0;34m(\u001b[0m\u001b[0;36m1\u001b[0m\u001b[0;34m)\u001b[0m\u001b[0;34m,\u001b[0m \u001b[0meps\u001b[0m\u001b[0;34m=\u001b[0m\u001b[0;36m1e-3\u001b[0m\u001b[0;34m)\u001b[0m\u001b[0;34m\u001b[0m\u001b[0;34m\u001b[0m\u001b[0m\n\u001b[0m\u001b[1;32m      5\u001b[0m \u001b[0;34m\u001b[0m\u001b[0m\n\u001b[1;32m      6\u001b[0m     \u001b[0moptimizer\u001b[0m\u001b[0;34m.\u001b[0m\u001b[0mzero_grad\u001b[0m\u001b[0;34m(\u001b[0m\u001b[0;34m)\u001b[0m \u001b[0;31m# prepare the optimizer\u001b[0m\u001b[0;34m\u001b[0m\u001b[0;34m\u001b[0m\u001b[0m\n",
      "\u001b[0;32m<ipython-input-6-057b48976d19>\u001b[0m in \u001b[0;36mmdn_loss_fn\u001b[0;34m(pi, sigma, mu, y, eps)\u001b[0m\n\u001b[1;32m     11\u001b[0m \u001b[0;34m\u001b[0m\u001b[0m\n\u001b[1;32m     12\u001b[0m \u001b[0;32mdef\u001b[0m \u001b[0mmdn_loss_fn\u001b[0m\u001b[0;34m(\u001b[0m\u001b[0mpi\u001b[0m\u001b[0;34m,\u001b[0m \u001b[0msigma\u001b[0m\u001b[0;34m,\u001b[0m \u001b[0mmu\u001b[0m\u001b[0;34m,\u001b[0m \u001b[0my\u001b[0m\u001b[0;34m,\u001b[0m \u001b[0meps\u001b[0m\u001b[0;34m=\u001b[0m\u001b[0;36m1e-3\u001b[0m\u001b[0;34m)\u001b[0m\u001b[0;34m:\u001b[0m\u001b[0;34m\u001b[0m\u001b[0;34m\u001b[0m\u001b[0m\n\u001b[0;32m---> 13\u001b[0;31m     \u001b[0mresult\u001b[0m \u001b[0;34m=\u001b[0m \u001b[0mgaussian_distribution\u001b[0m\u001b[0;34m(\u001b[0m\u001b[0my\u001b[0m\u001b[0;34m,\u001b[0m \u001b[0mmu\u001b[0m\u001b[0;34m,\u001b[0m \u001b[0msigma\u001b[0m\u001b[0;34m)\u001b[0m \u001b[0;34m*\u001b[0m \u001b[0mpi\u001b[0m\u001b[0;34m\u001b[0m\u001b[0;34m\u001b[0m\u001b[0m\n\u001b[0m\u001b[1;32m     14\u001b[0m     \u001b[0mresult\u001b[0m \u001b[0;34m=\u001b[0m \u001b[0mtorch\u001b[0m\u001b[0;34m.\u001b[0m\u001b[0msum\u001b[0m\u001b[0;34m(\u001b[0m\u001b[0mresult\u001b[0m\u001b[0;34m,\u001b[0m \u001b[0mdim\u001b[0m\u001b[0;34m=\u001b[0m\u001b[0;36m1\u001b[0m\u001b[0;34m)\u001b[0m\u001b[0;34m\u001b[0m\u001b[0;34m\u001b[0m\u001b[0m\n\u001b[1;32m     15\u001b[0m     \u001b[0mresult\u001b[0m \u001b[0;34m=\u001b[0m \u001b[0;34m-\u001b[0m\u001b[0mtorch\u001b[0m\u001b[0;34m.\u001b[0m\u001b[0mlog\u001b[0m\u001b[0;34m(\u001b[0m\u001b[0mresult\u001b[0m \u001b[0;34m+\u001b[0m \u001b[0meps\u001b[0m\u001b[0;34m)\u001b[0m\u001b[0;34m\u001b[0m\u001b[0;34m\u001b[0m\u001b[0m\n",
      "\u001b[0;32m<ipython-input-6-057b48976d19>\u001b[0m in \u001b[0;36mgaussian_distribution\u001b[0;34m(y, mu, sigma)\u001b[0m\n\u001b[1;32m      3\u001b[0m \u001b[0;32mdef\u001b[0m \u001b[0mgaussian_distribution\u001b[0m\u001b[0;34m(\u001b[0m\u001b[0my\u001b[0m\u001b[0;34m,\u001b[0m \u001b[0mmu\u001b[0m\u001b[0;34m,\u001b[0m \u001b[0msigma\u001b[0m\u001b[0;34m)\u001b[0m\u001b[0;34m:\u001b[0m\u001b[0;34m\u001b[0m\u001b[0;34m\u001b[0m\u001b[0m\n\u001b[1;32m      4\u001b[0m     \u001b[0;31m# make |mu|=K copies of y, subtract mu, divide by sigma\u001b[0m\u001b[0;34m\u001b[0m\u001b[0;34m\u001b[0m\u001b[0;34m\u001b[0m\u001b[0m\n\u001b[0;32m----> 5\u001b[0;31m     \u001b[0mresult\u001b[0m \u001b[0;34m=\u001b[0m \u001b[0;34m(\u001b[0m\u001b[0my\u001b[0m\u001b[0;34m.\u001b[0m\u001b[0mexpand_as\u001b[0m\u001b[0;34m(\u001b[0m\u001b[0mmu\u001b[0m\u001b[0;34m)\u001b[0m \u001b[0;34m-\u001b[0m \u001b[0mmu\u001b[0m\u001b[0;34m)\u001b[0m \u001b[0;34m*\u001b[0m \u001b[0mtorch\u001b[0m\u001b[0;34m.\u001b[0m\u001b[0mreciprocal\u001b[0m\u001b[0;34m(\u001b[0m\u001b[0msigma\u001b[0m\u001b[0;34m)\u001b[0m\u001b[0;34m\u001b[0m\u001b[0;34m\u001b[0m\u001b[0m\n\u001b[0m\u001b[1;32m      6\u001b[0m \u001b[0;31m#     result = torch.sum(-0.5 * (result * result), 2)\u001b[0m\u001b[0;34m\u001b[0m\u001b[0;34m\u001b[0m\u001b[0;34m\u001b[0m\u001b[0m\n\u001b[1;32m      7\u001b[0m     \u001b[0mresult\u001b[0m \u001b[0;34m=\u001b[0m \u001b[0;34m-\u001b[0m\u001b[0;36m0.5\u001b[0m \u001b[0;34m*\u001b[0m \u001b[0;34m(\u001b[0m\u001b[0mresult\u001b[0m \u001b[0;34m*\u001b[0m \u001b[0mresult\u001b[0m\u001b[0;34m)\u001b[0m\u001b[0;34m\u001b[0m\u001b[0;34m\u001b[0m\u001b[0m\n",
      "\u001b[0;31mKeyboardInterrupt\u001b[0m: "
     ]
    }
   ],
   "source": [
    "for it in range(1000):\n",
    "    pi, sigma, mu = mdn(torch.cat([states, actions], axis=1))\n",
    "    \n",
    "    loss = mdn_loss_fn(pi, sigma, mu, nextstates.unsqueeze(1), eps=1e-3)\n",
    "    \n",
    "    optimizer.zero_grad() # prepare the optimizer\n",
    "    loss.backward() # compute the contribution of each parameter to the loss\n",
    "    optimizer.step() # modify the parameters\n",
    "    \n",
    "    if it % 100 == 0:\n",
    "        print(loss.item())"
   ]
  },
  {
   "cell_type": "code",
   "execution_count": 113,
   "metadata": {
    "Collapsed": "false"
   },
   "outputs": [
    {
     "data": {
      "text/plain": [
       "torch.Size([4000, 3])"
      ]
     },
     "execution_count": 113,
     "metadata": {},
     "output_type": "execute_result"
    }
   ],
   "source": [
    "torch.cat([states, actions], axis=1).shape"
   ]
  },
  {
   "cell_type": "code",
   "execution_count": 14,
   "metadata": {
    "Collapsed": "false"
   },
   "outputs": [],
   "source": [
    "tm = torch.cat([\n",
    "    torch.ones(4,4)*i for i in range(5)\n",
    "], axis=0)"
   ]
  },
  {
   "cell_type": "code",
   "execution_count": 19,
   "metadata": {
    "Collapsed": "false"
   },
   "outputs": [
    {
     "name": "stdout",
     "output_type": "stream",
     "text": [
      "tensor([[0., 0., 0., 0.],\n",
      "        [0., 0., 0., 0.],\n",
      "        [0., 0., 0., 0.],\n",
      "        [0., 0., 0., 0.]])\n",
      "tensor([[1., 1., 1., 1.],\n",
      "        [1., 1., 1., 1.],\n",
      "        [1., 1., 1., 1.],\n",
      "        [1., 1., 1., 1.]])\n",
      "tensor([[2., 2., 2., 2.],\n",
      "        [2., 2., 2., 2.],\n",
      "        [2., 2., 2., 2.],\n",
      "        [2., 2., 2., 2.]])\n",
      "tensor([[3., 3., 3., 3.],\n",
      "        [3., 3., 3., 3.],\n",
      "        [3., 3., 3., 3.],\n",
      "        [3., 3., 3., 3.]])\n",
      "tensor([[4., 4., 4., 4.],\n",
      "        [4., 4., 4., 4.],\n",
      "        [4., 4., 4., 4.],\n",
      "        [4., 4., 4., 4.]])\n"
     ]
    }
   ],
   "source": [
    "for i in range(5):\n",
    "    print(tm[i*4:i*4+4, :])"
   ]
  },
  {
   "cell_type": "code",
   "execution_count": null,
   "metadata": {
    "Collapsed": "false"
   },
   "outputs": [],
   "source": []
  }
 ],
 "metadata": {
  "kernelspec": {
   "display_name": "Python 3",
   "language": "python",
   "name": "python3"
  },
  "language_info": {
   "codemirror_mode": {
    "name": "ipython",
    "version": 3
   },
   "file_extension": ".py",
   "mimetype": "text/x-python",
   "name": "python",
   "nbconvert_exporter": "python",
   "pygments_lexer": "ipython3",
   "version": "3.6.8"
  }
 },
 "nbformat": 4,
 "nbformat_minor": 4
}
