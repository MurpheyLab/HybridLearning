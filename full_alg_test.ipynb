{
 "cells": [
  {
   "cell_type": "code",
   "execution_count": 1,
   "metadata": {},
   "outputs": [],
   "source": [
    "import math\n",
    "import random\n",
    "\n",
    "import gym\n",
    "from envs import env_list\n",
    "\n",
    "import torch\n",
    "import torch.nn as nn\n",
    "import torch.optim as optim\n",
    "import torch.nn.functional as F\n",
    "from torch.distributions import Normal\n",
    "\n",
    "import numpy as np\n",
    "\n",
    "from ddpg.policynetwork import PolicyNetwork\n",
    "from ddpg.replay_buffer import ReplayBuffer\n",
    "from ddpg.ou_noise import OUNoise\n",
    "\n",
    "from model import ModelOptimizer, Model\n",
    "\n",
    "from IPython.display import clear_output\n",
    "import matplotlib.pyplot as plt\n",
    "%matplotlib inline"
   ]
  },
  {
   "cell_type": "code",
   "execution_count": 2,
   "metadata": {},
   "outputs": [],
   "source": [
    "import torch\n",
    "import torch.autograd as autograd\n",
    "from torch.autograd import Variable\n",
    "from torch.autograd.gradcheck import zero_gradients\n",
    "\n",
    "def compute_jacobian(inputs, output, create_graph=False):\n",
    "    \"\"\"\n",
    "    :param inputs: Batch X Size (e.g. Depth X Width X Height)\n",
    "    :param output: Batch X Classes\n",
    "    :return: jacobian: Batch X Classes X Size\n",
    "    \"\"\"\n",
    "    assert inputs.requires_grad\n",
    "\n",
    "    num_classes = output.size()[1]\n",
    "\n",
    "    jacobian = torch.zeros(num_classes, *inputs.size())\n",
    "    grad_output = torch.zeros(*output.size())\n",
    "    if inputs.is_cuda:\n",
    "        grad_output = grad_output.cuda()\n",
    "        jacobian = jacobian.cuda()\n",
    "\n",
    "    for i in range(num_classes):\n",
    "        zero_gradients(inputs)\n",
    "        grad_output.zero_()\n",
    "        grad_output[:, i] = 1\n",
    "        output.backward(grad_output, retain_graph=True, create_graph=create_graph)\n",
    "        jacobian[i] = inputs.grad.data\n",
    "    \n",
    "    return torch.transpose(jacobian, dim0=0, dim1=1)\n",
    "\n",
    "class DeterministicCtrl(object):\n",
    "    \n",
    "    def __init__(self, model, policy, T=10, eps=1e-1):\n",
    "        self.model = model\n",
    "        self.policy = policy\n",
    "        self.T = T\n",
    "        self.eps = eps\n",
    "        \n",
    "        self.num_states = model.num_states\n",
    "        self.num_actions = model.num_actions\n",
    "        \n",
    "        self.u = torch.cat(\n",
    "            [torch.zeros(1, self.num_actions) for t in range(self.T-1)], dim=0)\n",
    "        self.u.requires_grad = True\n",
    "    \n",
    "    def reset(self):\n",
    "        self.u = torch.cat(\n",
    "            [torch.zeros(1, self.num_actions) for t in range(self.T-1)], dim=0)\n",
    "        self.u.requires_grad = True\n",
    "           \n",
    "    \n",
    "    def __call__(self, state):\n",
    "        with torch.no_grad():\n",
    "            self.u[:-1] = self.u[1:].clone()\n",
    "            self.u[-1].zero_()\n",
    "            x_t = torch.FloatTensor(state).unsqueeze(0)\n",
    "            x = []\n",
    "            ep_rew = 0.\n",
    "            for t in range(self.T-1):\n",
    "                x.append(x_t.clone())\n",
    "#                 u_t = self.policy(x_t)\n",
    "                x_t, r_t = self.model.step(x_t, self.u[t].unsqueeze(0))\n",
    "                ep_rew += r_t.data\n",
    "        \n",
    "        \n",
    "        # compute those derivatives\n",
    "        x = torch.cat(x)\n",
    "        x.requires_grad = True\n",
    "        \n",
    "        pred_state, pred_rew = self.model.step(x, self.u)# + self.policy(x)[0])\n",
    "        \n",
    "        dfdx = compute_jacobian(x, pred_state)\n",
    "        dfdu = compute_jacobian(self.u, pred_state)\n",
    "        dldx = compute_jacobian(x, pred_rew)\n",
    "        dldu = compute_jacobian(self.u, pred_rew)\n",
    "        \n",
    "        with torch.no_grad():\n",
    "            rho = torch.zeros(1, self.num_states)\n",
    "            for t in reversed(range(self.T-1)):\n",
    "                rho = dldx[t] + rho.mm(dfdx[t])\n",
    "                self.u[t] = self.u[t] + self.eps*(dldu[t] + rho.mm(dfdu[t]))\n",
    "        return self.u[0].data.numpy()"
   ]
  },
  {
   "cell_type": "code",
   "execution_count": 3,
   "metadata": {},
   "outputs": [],
   "source": [
    "env = env_list['InvertedPendulumSwingupBulletEnv']()\n",
    "ou_noise = OUNoise(env.action_space)\n",
    "action_dim = env.action_space.shape[0]\n",
    "state_dim  = env.observation_space.shape[0]"
   ]
  },
  {
   "cell_type": "code",
   "execution_count": 4,
   "metadata": {},
   "outputs": [],
   "source": [
    "policy = PolicyNetwork(num_inputs=state_dim, num_actions=action_dim, hidden_size=128)\n",
    "model  = Model(state_dim, action_dim, )\n",
    "\n",
    "replay_buffer = ReplayBuffer(10000)\n",
    "\n",
    "ctrl = DeterministicCtrl(model, policy)\n",
    "\n",
    "model_optim = ModelOptimizer(model, replay_buffer, lr=1e-3)\n",
    "batch_size  = 128\n",
    "\n",
    "frame_skip = 4"
   ]
  },
  {
   "cell_type": "code",
   "execution_count": 5,
   "metadata": {},
   "outputs": [],
   "source": [
    "for k in range(100):\n",
    "    state = env.reset()\n",
    "    ou_noise.reset()\n",
    "    \n",
    "    ctrl.reset()\n",
    "    \n",
    "    for t in range(200):\n",
    "        action = ou_noise.get_action(ctrl(state))\n",
    "        for _ in range(frame_skip):\n",
    "            next_state, reward, done, _ = env.step(action.copy())\n",
    "        replay_buffer.push(state, action, reward, next_state, done)\n",
    "        if len(replay_buffer) > batch_size:\n",
    "            model_optim.update_model(batch_size)\n",
    "        env.render()\n",
    "\n",
    "        state = next_state\n",
    "        if done:\n",
    "            break\n",
    "#         print(model_optim.log['loss'][-1])\n"
   ]
  },
  {
   "cell_type": "code",
   "execution_count": 6,
   "metadata": {},
   "outputs": [
    {
     "data": {
      "text/plain": [
       "tensor([[ 0.6080],\n",
       "        [ 0.4241],\n",
       "        [ 0.2985],\n",
       "        [ 0.1276],\n",
       "        [-0.0007],\n",
       "        [ 0.0101],\n",
       "        [ 0.0597],\n",
       "        [-0.0292],\n",
       "        [-0.0062]], requires_grad=True)"
      ]
     },
     "execution_count": 6,
     "metadata": {},
     "output_type": "execute_result"
    }
   ],
   "source": [
    "ctrl.u"
   ]
  },
  {
   "cell_type": "code",
   "execution_count": 32,
   "metadata": {},
   "outputs": [],
   "source": [
    "x = torch.randn(5,2, requires_grad = True)"
   ]
  },
  {
   "cell_type": "code",
   "execution_count": 33,
   "metadata": {},
   "outputs": [
    {
     "data": {
      "text/plain": [
       "tensor([[ 0.1072, -0.4898],\n",
       "        [-0.0619, -2.1170],\n",
       "        [-2.1056, -0.1492],\n",
       "        [-0.2882, -0.9707],\n",
       "        [ 2.0131,  0.5740]], requires_grad=True)"
      ]
     },
     "execution_count": 33,
     "metadata": {},
     "output_type": "execute_result"
    }
   ],
   "source": [
    "x"
   ]
  },
  {
   "cell_type": "code",
   "execution_count": 34,
   "metadata": {},
   "outputs": [],
   "source": [
    "x[:-1] = x[1:].clone()"
   ]
  },
  {
   "cell_type": "code",
   "execution_count": 38,
   "metadata": {},
   "outputs": [
    {
     "data": {
      "text/plain": [
       "tensor([0., 0.], grad_fn=<AsStridedBackward>)"
      ]
     },
     "execution_count": 38,
     "metadata": {},
     "output_type": "execute_result"
    }
   ],
   "source": [
    "x[-1].zero_()"
   ]
  },
  {
   "cell_type": "code",
   "execution_count": 36,
   "metadata": {},
   "outputs": [
    {
     "data": {
      "text/plain": [
       "tensor([[-0.0619, -2.1170],\n",
       "        [-2.1056, -0.1492],\n",
       "        [-0.2882, -0.9707],\n",
       "        [ 2.0131,  0.5740],\n",
       "        [ 0.0000,  0.0000]], grad_fn=<CopySlices>)"
      ]
     },
     "execution_count": 36,
     "metadata": {},
     "output_type": "execute_result"
    }
   ],
   "source": [
    "x"
   ]
  },
  {
   "cell_type": "code",
   "execution_count": null,
   "metadata": {},
   "outputs": [],
   "source": []
  }
 ],
 "metadata": {
  "kernelspec": {
   "display_name": "Python 3",
   "language": "python",
   "name": "python3"
  },
  "language_info": {
   "codemirror_mode": {
    "name": "ipython",
    "version": 3
   },
   "file_extension": ".py",
   "mimetype": "text/x-python",
   "name": "python",
   "nbconvert_exporter": "python",
   "pygments_lexer": "ipython3",
   "version": "3.6.8"
  }
 },
 "nbformat": 4,
 "nbformat_minor": 4
}
